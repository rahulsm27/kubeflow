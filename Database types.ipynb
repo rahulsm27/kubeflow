{
 "cells": [
  {
   "cell_type": "code",
   "execution_count": null,
   "metadata": {},
   "outputs": [],
   "source": [
    "# Row vs Column\n",
    "\n",
    "# Check PDF\n"
   ]
  },
  {
   "cell_type": "markdown",
   "metadata": {},
   "source": [
    "![Alt text](image-34.png)"
   ]
  },
  {
   "cell_type": "markdown",
   "metadata": {},
   "source": [
    "![Alt text](image-35.png)"
   ]
  },
  {
   "cell_type": "markdown",
   "metadata": {},
   "source": [
    "![Alt text](image-36.png)"
   ]
  },
  {
   "cell_type": "code",
   "execution_count": null,
   "metadata": {},
   "outputs": [],
   "source": [
    "# A \"NoSQL movement\" datastore is better defined as being non-relational, shared-nothing, horizontally scalable database without (necessarily) ACID guarantees. Some column-oriented databases can be characterized this way. Besides column stores, NoSQL implementations also include document stores, object stores, tuple stores, and graph stores.\n",
    "# # Some NoSQL databases are column-oriented databases, and some SQL databases are column-oriented as well. Whether the database is column or row-oriented is a physical storage implementation detail of the database and can be true of both relational and non-relational (NoSQL) databases."
   ]
  },
  {
   "cell_type": "code",
   "execution_count": null,
   "metadata": {},
   "outputs": [],
   "source": [
    "# A wide-column store (or extensible record store) is a column-oriented DBMS and therefore a special type of NoSQL database.[1] It uses tables, rows, and columns, but unlike a relational database, the names and format of the columns can vary from row to row in the same table. A wide-column store can be interpreted as a two-dimensional key–value store.[1] Google's Bigtable is one of the prototypical examples of a wide-column store.[2]\n",
    "\n",
    "# Wide-column stores versus columnar databases\n",
    "# Wide-column stores such as Bigtable and Apache Cassandra are not column stores in the original sense of the term, since their two-level structures do not use a columnar data layout. In genuine column stores, a columnar data layout is adopted such that each column is stored separately on disk. Wide-column stores do often support the notion of column families that are stored separately. However, each such column family typically contains multiple columns that are used together, similar to traditional relational database tables. Within a given column family, all data is stored in a row-by-row fashion, such that the columns for a given row are stored together, rather than each column being stored separately.\n",
    "\n",
    "# Wide-column stores that support column families are also known as column family databases"
   ]
  },
  {
   "cell_type": "code",
   "execution_count": null,
   "metadata": {},
   "outputs": [],
   "source": [
    "# Wide column ..each column family consists of many individual columns store in row..column family consists of group of columns...different column family are stored differently like column storage\n",
    "\n",
    "# The distinction between a typical column-orientated database and a wide-column database relates to something called column families.\n",
    "\n",
    "# A column family is a database object that contains columns of data. Each column family stored is made up of a key/value pair, where the key is mapped to a value that is a set of columns.\n",
    "\n",
    "# So, each column family might store one or multiple attributes - if we want to represent large amounts of data.\n",
    "\n",
    "# An individual column within a column family will normally contain a name, value, and timestamp.\n",
    "\n",
    "\n",
    "\n",
    "# also for each row ..all column data is not required."
   ]
  },
  {
   "cell_type": "markdown",
   "metadata": {},
   "source": [
    "![Alt text](image-33.png)"
   ]
  },
  {
   "cell_type": "code",
   "execution_count": null,
   "metadata": {},
   "outputs": [],
   "source": [
    "# Types of NoSQL Database:\n",
    "# Document-based databases\n",
    "# Key-value stores\n",
    "# Column-oriented databases -> Wide column\n",
    "# Graph-based databases\n",
    "\n",
    "\n"
   ]
  },
  {
   "cell_type": "code",
   "execution_count": null,
   "metadata": {},
   "outputs": [],
   "source": [
    "# NoSQL is term used for Not Only SQL, which covers four major categories - Key-Value, Document, Column Family and Graph databases.\n",
    "\n",
    "# Key-value databases are well-suited to applications that have frequent small reads and writes along with simple data models. These records are stored and retrieved using a key that uniquely identifies the record, and is used to quickly find the data within the database.\n",
    "\n",
    "# e.g. Redis, Riak etc.\n",
    "\n",
    "# Document databases have ability to store varying attributes along with large amounts of data\n",
    "\n",
    "# e.g. MongoDB , CouchDB etc.\n",
    "\n",
    "# Column family databases are designed for large volumes of data, read and write performance, and high availability\n",
    "\n",
    "# e.g Cassandra, HBase etc.\n",
    "\n",
    "# Graph database is a database that uses graph structures for semantic queries with nodes, edges and properties to represent and store data\n",
    "\n",
    "# e.g Neo4j, InfiniteGraph etc."
   ]
  },
  {
   "cell_type": "markdown",
   "metadata": {},
   "source": [
    "![Alt text](image-27.png)"
   ]
  },
  {
   "cell_type": "markdown",
   "metadata": {},
   "source": [
    "![Alt text](image-28.png)"
   ]
  },
  {
   "cell_type": "markdown",
   "metadata": {},
   "source": []
  },
  {
   "cell_type": "code",
   "execution_count": null,
   "metadata": {},
   "outputs": [],
   "source": [
    "# Document-oriented databases\n",
    "# Document-oriented databases store data as documents, which are self-contained units of information that can have various fields, values, and structures. Documents are usually organized into collections, which are similar to tables in relational databases. Document-oriented databases are often used for applications that need to store and query complex, nested, or heterogeneous data, such as web content, social media, or e-commerce. Some examples of document-oriented databases are MongoDB, CouchDB, and Elasticsearch.\n",
    "\n",
    "\n",
    "# 2\n",
    "# Key-value databases\n",
    "# Key-value databases store data as pairs of keys and values, where each key is unique and associated with a value that can be a simple data type or a binary object. Key-value databases are often used for applications that need to store and retrieve simple, fast, and consistent data, such as user preferences, session data, or caching. Some examples of key-value databases are Redis, DynamoDB, and Riak."
   ]
  },
  {
   "cell_type": "markdown",
   "metadata": {},
   "source": []
  },
  {
   "cell_type": "markdown",
   "metadata": {},
   "source": [
    "<!-- Key-value databases are the simplest type of NoSQL database.\n",
    "\n",
    "#The value can itself be keys\n",
    "\n",
    "These NoSQL databases have a dictionary data structure that consists of a set of objects that represent fields of data. Each object is assigned a unique key. To retrieve data stored in a particular object, you need to use a specific key. In turn, you get the value assigned to the key. This value can be a number, a string, or even another set of key-value pairs.\n",
    "\n",
    "Unlike traditional relational databases, key-value databases do not require a predefined structure. They offer more flexibility when storing data and have faster performance. Without having to rely on placeholders, key-value databases are a lighter solution as they require fewer resources. -->"
   ]
  },
  {
   "cell_type": "markdown",
   "metadata": {},
   "source": []
  },
  {
   "cell_type": "markdown",
   "metadata": {},
   "source": [
    "![Alt text](image-32.png)"
   ]
  },
  {
   "cell_type": "code",
   "execution_count": null,
   "metadata": {},
   "outputs": [],
   "source": []
  },
  {
   "cell_type": "code",
   "execution_count": null,
   "metadata": {},
   "outputs": [],
   "source": []
  },
  {
   "cell_type": "code",
   "execution_count": null,
   "metadata": {},
   "outputs": [],
   "source": [
    "# # Document storage\n",
    "\n",
    "# Document-Oriented NoSQL DB stores and retrieves data as a key value pair but the value part is stored as a document. The document is stored in JSON or XML formats. The value is understood by the DB and can be queried. for a document database, you have data store like JSON object. You do not require to define which make it flexible."
   ]
  },
  {
   "cell_type": "markdown",
   "metadata": {},
   "source": [
    "![Alt text](image-31.png)"
   ]
  },
  {
   "cell_type": "markdown",
   "metadata": {},
   "source": [
    "![Alt text](image-30.png)"
   ]
  },
  {
   "cell_type": "markdown",
   "metadata": {},
   "source": [
    "![Alt text](image-29.png)"
   ]
  },
  {
   "cell_type": "code",
   "execution_count": null,
   "metadata": {},
   "outputs": [],
   "source": []
  },
  {
   "cell_type": "code",
   "execution_count": null,
   "metadata": {},
   "outputs": [],
   "source": [
    "# Column based"
   ]
  },
  {
   "cell_type": "markdown",
   "metadata": {},
   "source": [
    "<!-- Column family:\n",
    "A column family is a database object that contains columns of related data. It is a tuple (pair) that consists of a key-value pair, where the key is mapped to a value that is a set of columns. In analogy with relational databases, a column family is as a \"table\", each key-value pair being a \"row\". Each column is a tuple (triplet) consisting of a column name, a value, and a timestamp. In a relational database table, this data would be grouped together within a table with other non-related data.\n",
    "\n",
    "A column family consists of multiple rows.\n",
    "Each row can contain a different number of columns to the other rows. And the columns don’t have to match the columns in the other rows (i.e. they can have different column names, data types, etc).\n",
    "Each column is contained to its row. It doesn’t span all rows like in a relational database. Each column contains a name/value pair, along with a timestamp. Note that this example uses Unix/Epoch time for the timestamp. -->"
   ]
  },
  {
   "cell_type": "markdown",
   "metadata": {},
   "source": [
    "<!-- The distinction between a typical column-orientated database and a wide-column database relates to something called column families.\n",
    "\n",
    "So…\n",
    "\n",
    "What is a column family?\n",
    "A column family is a database object that contains columns of data. Each column family stored is made up of a key/value pair, where the key is mapped to a value that is a set of columns.\n",
    "\n",
    "So, each column family might store one or multiple attributes - if we want to represent large amounts of data.\n",
    "\n",
    "An individual column within a column family will normally contain a name, value, and timestamp.\n",
    "\n",
    "Another way of thinking about this is that each row has a unique identifier - sometimes referred to as a row key - and then the full details of each attribute stored against it as dedicated columns.\n",
    "\n",
    "So, a single column family might look like this:\n",
    "\n",
    "Wide column database column family\n",
    "\n",
    "This is how we achieve the flexible, dynamic rows that we talked about earlier, as it enables us to store different attributes for individual data entities.\n",
    "\n",
    "Wide-column databases vs RDBMSs\n",
    "So, to solidify our understanding of wide-column databases, let’s think about how they differ from some of the other types of solutions that you’re probably familiar with.\n",
    "\n",
    "The big alternative here is traditional relational database management systems (RDBMSs).\n",
    "\n",
    "Most relational databases, including SQL variants, are row-orientated. Each row must store the same attributes as columns - even if some of these are null for individual entries.\n",
    "\n",
    "The ultimate goal behind these is to ensure both consistency across your data set, and performance when querying multiple columns in a single row - known as online transactional processing (OLTP) use cases.\n",
    "\n",
    "But, they’re less efficient for situations where we need to retrieve large numbers of values for a handful of columns across different rows - making them less effective for big data, IoT, or analytical use cases.\n",
    "\n",
    "As we saw already, wide-column databases are effectively the mirror image of this, offering superior performance for online analytical processing (OLAP) use cases since we can query entire data sets for a particular attribute, without needing to know about the whole row.\n",
    "\n",
    "So, it’s not quite the case that one solution is inherently better than the other.\n",
    "\n",
    "Let’s return to the idea of consistency for a second. This is one of the big selling points of RDBMSs. We can consistently enforce rules on attributes across all of our data with relative ease - at the expense of flexibility.\n",
    "\n",
    "Wide-column databases strike a slightly different balance. As we know, part of the appeal is that we can store different attributes against individual rows.\n",
    "\n",
    "This naturally undermines the degree of consistency we can achieve across the data set as a whole, compared to something like MySQL or Postgres.\n",
    "\n",
    "Wide-columns and other NoSQL solutions\n",
    "Wide-column databases - and column-orientated databases more generally fall under the umbrella of NoSQL tools. This is a pretty broad categorization though - essentially drawing in any solution that isn’t a traditional SQL-based RDBMS.\n",
    "\n",
    "So, it’s worth surveying the landscape a little bit in order to better understand where wide-column stores fit into the picture.\n",
    "\n",
    "The most important clusters of NoSQL solutions include:\n",
    "\n",
    "Key/value stores - A simple database where all data is stored in key/value pairs.\n",
    "Document databases - A database where entities are represented by documents, usually in a JSON or XML format.\n",
    "Column-orientated databases - Where - as we’ve seen - data is stored in its constituent columns.\n",
    "Graph databases - Where database objects are stored as related nodes.\n",
    "Each of these comes with its own particular benefits and challenges. For example, key/value stores offer a high degree of simplicity and scalability, but make it more difficult to represent complex phenomena and objects.\n",
    "\n",
    "Document stores make it easy to store and retrieve entire objects as they are most often used by client applications, but can make it a little more complicated to perform bulk actions on these objects.\n",
    "\n",
    "Graph databases make it easy to represent complex relationships between entities - as well as facilitating real-time data access - but they can also be quite complex to understand and work with.\n",
    "\n",
    "But today, we’re specifically interested in wide-column databases and how they’re used.\n",
    "\n",
    "That leads us to…\n",
    " -->\n"
   ]
  }
 ],
 "metadata": {
  "language_info": {
   "name": "python"
  },
  "orig_nbformat": 4
 },
 "nbformat": 4,
 "nbformat_minor": 2
}
