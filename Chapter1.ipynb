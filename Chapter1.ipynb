{
 "cells": [
  {
   "cell_type": "code",
   "execution_count": null,
   "metadata": {},
   "outputs": [],
   "source": [
    "# # Scalability\n",
    "\n",
    "# # Vertical scaling -> add more rams and storage to same server\n",
    "\n",
    "# The vertical scaling approach, sometimes referred to as \"scaling up,\" focuses on adding more resources or more processing power to a single machine. These additions may include CPU and RAM resources upgrades which will increase the processing speed of a single server or increase the storage capacity of a single machine to address increasing data requirements.\n",
    "\n",
    "# One of the advantages of scaling vertically is that it is easier than the alternative horizontal scaling approach. Specifically, since hardware resources and/or computing resources are only being added to one machine, there is less complexity involved."
   ]
  },
  {
   "cell_type": "code",
   "execution_count": null,
   "metadata": {},
   "outputs": [],
   "source": [
    "# Pros\n",
    "\n",
    "# The main benefit of vertical scaling is that nothing changes about your database infrastructure other than the hardware specifications of the machine running the database.\n",
    "\n",
    "# As such, it's transparent to the application. The only difference is that you have more CPUs, memory, and/or storage space.\n",
    "\n",
    "# Vertical scaling is a good option to try first if massive storage and processing are not required.\n",
    "\n",
    "# Cons\n",
    "\n",
    "# The downside of scaling up is that servers with more storage and processing power can be a lot more expensive.\n",
    "\n",
    "# There is also a physical limit on the amount of CPUs, memory, network interfaces, and hard-drives that can be used on a single machine. For those scaling up using a cloud platform provider, you will eventually reach the highest tier of machine available.\n",
    "\n",
    "# The available configuration options from cloud providers may be limited meaning that you may need only 10% more resources but the next available tier has 50% more resources for 50% more cost.\n",
    "\n",
    "# If scaling vertically requires a migration between hardwares, it could result in downtime or service disruption."
   ]
  },
  {
   "cell_type": "markdown",
   "metadata": {},
   "source": [
    "![Alt text](image.png)"
   ]
  },
  {
   "cell_type": "markdown",
   "metadata": {},
   "source": [
    "![Alt text](image-2.png)"
   ]
  },
  {
   "cell_type": "markdown",
   "metadata": {},
   "source": [
    "![Alt text](image-1.png)"
   ]
  },
  {
   "cell_type": "code",
   "execution_count": null,
   "metadata": {},
   "outputs": [],
   "source": [
    "# <!-- The horizontal scaling approach, sometimes referred to as \"scaling out,\" entails adding more machines to further distribute the load of the database and increase overall storage and/or processing power. There are two common ways to perform horizontal scaling — they include sharding, which increases the overall capacity of the system, and replication, which increases the availability and reliability of the system. -->"
   ]
  },
  {
   "cell_type": "code",
   "execution_count": null,
   "metadata": {},
   "outputs": [],
   "source": [
    "# Pros\n",
    "\n",
    "# Horizontal scaling is \"infinitely scalable\" as you can always add another machine while you may not be able to buy a larger machine if you are already using the largest machine available.\n",
    "\n",
    "# There is more predictable increases in pricing. Adding additional machines is a predictable cost while upgrading to larger machines may have increasing costs for smaller gains in performance.\n",
    "\n",
    "# Horizontal scaling can also deliver better performance and customer experience. An example of this is distributing with global clusters to deliver better performance in each region.\n",
    "\n",
    "# Cons\n",
    "\n",
    "# Horizontal scaling may require application architecture and code changes due to the distributed nature of the data. How you store and query the data can significantly affect your application performance.\n",
    "\n",
    "# Database systems that are scaled horizontally can be more complicated to manage and maintain, leading to more work for you and your team.\n",
    "\n",
    "\n",
    "# MongoDB implements horizontal scaling with a method called sharding."
   ]
  },
  {
   "cell_type": "markdown",
   "metadata": {},
   "source": [
    "![Alt text](image-3.png)"
   ]
  },
  {
   "cell_type": "code",
   "execution_count": null,
   "metadata": {},
   "outputs": [],
   "source": []
  },
  {
   "cell_type": "markdown",
   "metadata": {},
   "source": [
    "![Alt text](image-4.png)"
   ]
  },
  {
   "cell_type": "markdown",
   "metadata": {},
   "source": [
    "![Alt text](image-5.png)"
   ]
  },
  {
   "cell_type": "code",
   "execution_count": null,
   "metadata": {},
   "outputs": [],
   "source": [
    "# Monolithic Architecture vs MIcroservices\n",
    "\n",
    "# Microservices are an architectural style for software development that involves breaking down a single application into small, independent services. These services are owned by small teams and communicate with each other and clients using lightweight protocols like HTTP or messaging. \n"
   ]
  },
  {
   "cell_type": "markdown",
   "metadata": {},
   "source": [
    "![Alt text](image-6.png)"
   ]
  },
  {
   "cell_type": "markdown",
   "metadata": {},
   "source": [
    "![Alt text](image-7.png)"
   ]
  },
  {
   "cell_type": "markdown",
   "metadata": {},
   "source": [
    "![Alt text](image-8.png)"
   ]
  },
  {
   "cell_type": "code",
   "execution_count": null,
   "metadata": {},
   "outputs": [],
   "source": [
    "# #<!-- Event-driven architecture (EDA) is a software design pattern that allows an organization to detect and act on important business events in real time -->\n",
    "\n",
    "# An event-driven architecture uses events to trigger and communicate between decoupled services and is common in modern applications built with microservices. An event is a change in state, or an update, like an item being placed in a shopping cart on an e-commerce website."
   ]
  },
  {
   "cell_type": "markdown",
   "metadata": {},
   "source": [
    "![Alt text](image-9.png)"
   ]
  },
  {
   "cell_type": "markdown",
   "metadata": {},
   "source": [
    "![Alt text](image-10.png)"
   ]
  },
  {
   "cell_type": "code",
   "execution_count": null,
   "metadata": {},
   "outputs": [],
   "source": []
  }
 ],
 "metadata": {
  "language_info": {
   "name": "python"
  },
  "orig_nbformat": 4
 },
 "nbformat": 4,
 "nbformat_minor": 2
}
