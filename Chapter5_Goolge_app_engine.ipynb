{
 "cells": [
  {
   "cell_type": "markdown",
   "metadata": {},
   "source": [
    "![Alt text](image-22.png)"
   ]
  },
  {
   "cell_type": "code",
   "execution_count": null,
   "metadata": {},
   "outputs": [],
   "source": [
    "# App engine runtimes"
   ]
  },
  {
   "cell_type": "markdown",
   "metadata": {},
   "source": [
    "![Alt text](image-23.png)"
   ]
  },
  {
   "cell_type": "code",
   "execution_count": null,
   "metadata": {},
   "outputs": [],
   "source": [
    "#Option 1\n",
    "\n",
    "# app.yaml is the default yaml file"
   ]
  },
  {
   "cell_type": "markdown",
   "metadata": {},
   "source": [
    "![Alt text](image-24.png)"
   ]
  },
  {
   "cell_type": "code",
   "execution_count": null,
   "metadata": {},
   "outputs": [],
   "source": [
    "# # Deploy the App \n",
    "# gcloud app deploy \n",
    "\n",
    "# # Browse the deployed app \n",
    "# gcloud app browse\n",
    "\n",
    "# # Check the versions and instance running for the app \n",
    "# gcloud app versions list\n",
    "# gcloud app instances list \n",
    "\n",
    "# # Get the URL for the app for a specific version\n",
    "# gcloud app browse --version {version_id}\n",
    "\n",
    "# # Split the traffic between different versions of the app .Defaults to split by IP addresses \n",
    "# gcloud app services set-traffic --splits=20221128t143115=.5,v2=.5\n",
    "\n",
    "# # Split the traffic between different versions of the app by random and not by IP Addresses \n",
    "# gcloud app services set-traffic splits=20221128t143115=.5,v2=.5 --split-by=random"
   ]
  },
  {
   "cell_type": "code",
   "execution_count": null,
   "metadata": {},
   "outputs": [],
   "source": [
    "#Split the traffic between different versions"
   ]
  },
  {
   "cell_type": "code",
   "execution_count": null,
   "metadata": {},
   "outputs": [],
   "source": [
    "# Caching ."
   ]
  },
  {
   "cell_type": "markdown",
   "metadata": {},
   "source": [
    "![Alt text](image-26.png)"
   ]
  },
  {
   "cell_type": "markdown",
   "metadata": {},
   "source": [
    "![Alt text](image-25.png)"
   ]
  },
  {
   "cell_type": "markdown",
   "metadata": {},
   "source": []
  }
 ],
 "metadata": {
  "language_info": {
   "name": "python"
  },
  "orig_nbformat": 4
 },
 "nbformat": 4,
 "nbformat_minor": 2
}
